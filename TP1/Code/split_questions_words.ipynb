{
 "cells": [
  {
   "cell_type": "code",
   "execution_count": 8,
   "metadata": {},
   "outputs": [],
   "source": [
    "questions = []\n",
    "words = []\n",
    "with open('questions-words.txt') as f:\n",
    "    for line in f:\n",
    "        if ':' not in line:\n",
    "            w = line.split(' ')\n",
    "            questions.append([w[0], w[1], w[2]])\n",
    "            w = w[3].split('\\n')\n",
    "            words.append(w[0])"
   ]
  },
  {
   "cell_type": "code",
   "execution_count": 11,
   "metadata": {},
   "outputs": [],
   "source": [
    "with open(f\"words.txt\", \"w\") as text_file:\n",
    "        for word in words:\n",
    "            text_file.write(f'{word}\\n')"
   ]
  },
  {
   "cell_type": "code",
   "execution_count": 15,
   "metadata": {},
   "outputs": [],
   "source": [
    "with open(f\"questions.txt\", \"w\") as text_file:\n",
    "    for line in questions:\n",
    "        text_file.write(f'{line[0]} {line[1]} {line[2]}\\n')\n",
    "    text_file.write(f'EXIT')"
   ]
  }
 ],
 "metadata": {
  "kernelspec": {
   "display_name": "base",
   "language": "python",
   "name": "base"
  },
  "language_info": {
   "codemirror_mode": {
    "name": "ipython",
    "version": 3
   },
   "file_extension": ".py",
   "mimetype": "text/x-python",
   "name": "python",
   "nbconvert_exporter": "python",
   "pygments_lexer": "ipython3",
   "version": "3.7.3"
  }
 },
 "nbformat": 4,
 "nbformat_minor": 4
}
